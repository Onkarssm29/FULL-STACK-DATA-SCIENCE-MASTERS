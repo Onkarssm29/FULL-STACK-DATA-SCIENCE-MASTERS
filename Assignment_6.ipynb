{
 "cells": [
  {
   "cell_type": "markdown",
   "metadata": {
    "id": "l5DeAg-O1ey8"
   },
   "source": [
    "Q1. What are keywords in python? Using the keyword library, print all the python keywords.\n",
    "\n",
    "Answer:\n",
    "\n",
    "- Keywords in Python are reserved words that have a specific meaning and purpose in the language.\n",
    "- They are used to define the syntax and structure of Python programs.\n",
    "- Keywords cannot be used as variable names or any other identifiers.\n",
    "\n",
    "To print all the Python keywords, we can use the `keyword` module"
   ]
  },
  {
   "cell_type": "code",
   "execution_count": 1,
   "metadata": {
    "colab": {
     "base_uri": "https://localhost:8080/"
    },
    "id": "gTflI-DJ1b77",
    "outputId": "35b561f4-f31d-4b96-99fc-1140096c0827"
   },
   "outputs": [
    {
     "name": "stdout",
     "output_type": "stream",
     "text": [
      "['False', 'None', 'True', 'and', 'as', 'assert', 'async', 'await', 'break', 'class', 'continue', 'def', 'del', 'elif', 'else', 'except', 'finally', 'for', 'from', 'global', 'if', 'import', 'in', 'is', 'lambda', 'nonlocal', 'not', 'or', 'pass', 'raise', 'return', 'try', 'while', 'with', 'yield']\n"
     ]
    }
   ],
   "source": [
    "import keyword\n",
    "print(keyword.kwlist)"
   ]
  },
  {
   "cell_type": "markdown",
   "metadata": {
    "id": "Hz6VZHbX1sTb"
   },
   "source": [
    "Q2. What are the rules to create variables in python?\n",
    "\n",
    "Answer:\n",
    "\n",
    "Rules to create variables in Python:\n",
    "\n",
    "- Variable names can contain letters (both lowercase and uppercase), digits, and underscores.\n",
    "- Variable names cannot start with a digit.\n",
    "- Variable names are case-sensitive, meaning myVar and myvar are different variables.\n",
    "- Variable names should be descriptive and meaningful.\n",
    "- It's recommended to use lowercase letters for variable names (e.g., my_var) to follow Python's naming conventions.\n",
    "- Avoid using reserved keywords as variable names."
   ]
  },
  {
   "cell_type": "markdown",
   "metadata": {
    "id": "D4ElXVUi14mg"
   },
   "source": [
    "Q3. What are the standards and conventions followed for the nomenclature of variables in python to improve code readability and maintainability?\n",
    "\n",
    "Answer:\n",
    "\n",
    "Standards and conventions for variable naming in Python:\n",
    "\n",
    "- Use descriptive and meaningful names that reflect the purpose or meaning of the variable.\n",
    "- Use lowercase letters and underscores to separate words in variable names (e.g., my_var).\n",
    "- Avoid using single-letter names (except in specific cases like loop iterators).\n",
    "- Avoid using reserved keywords as variable names.\n",
    "- For constants, use uppercase letters and underscores (e.g., MAX_VALUE).\n",
    "- Be consistent in your naming conventions throughout your codebase."
   ]
  },
  {
   "cell_type": "markdown",
   "metadata": {
    "id": "c7kTgBIl2Il5"
   },
   "source": [
    "Q4. What will happen if a keyword is used as a variable name?\n",
    "\n",
    "Answer:\n",
    "\n",
    "If a keyword is used as a variable name, it will result in a syntax error. Python treats keywords as reserved and prohibits their use as identifiers or variable names.\n",
    "\n",
    "For example, if you try to use the keyword `def` as a variable name:\n",
    "```\n",
    "def = 2\n",
    "```"
   ]
  },
  {
   "cell_type": "code",
   "execution_count": 3,
   "metadata": {
    "colab": {
     "base_uri": "https://localhost:8080/",
     "height": 130
    },
    "id": "pvxGysBe1r6z",
    "outputId": "3d652e23-b6b8-466e-899e-db862584db34"
   },
   "outputs": [
    {
     "ename": "SyntaxError",
     "evalue": "ignored",
     "output_type": "error",
     "traceback": [
      "\u001b[0;36m  File \u001b[0;32m\"<ipython-input-3-39e681e7c260>\"\u001b[0;36m, line \u001b[0;32m1\u001b[0m\n\u001b[0;31m    def = 2\u001b[0m\n\u001b[0m        ^\u001b[0m\n\u001b[0;31mSyntaxError\u001b[0m\u001b[0;31m:\u001b[0m invalid syntax\n"
     ]
    }
   ],
   "source": [
    "def = 2"
   ]
  },
  {
   "cell_type": "markdown",
   "metadata": {
    "id": "Q9PrjCqD2oiG"
   },
   "source": [
    "Q5. For what purpose def keyword is used?\n",
    "\n",
    "Answer:\n",
    "\n",
    "- The `def` keyword in Python is used to define a function.\n",
    "- It is followed by the function name and a block of code that represents the function's body.\n",
    "- Defining a function allows you to encapsulate a reusable piece of code that can be called and executed whenever needed.\n",
    "\n",
    "For example\n",
    "```\n",
    "def greet():\n",
    "    print(\"Hello, world!\")\n",
    "\n",
    "# Calling the function\n",
    "greet()\n",
    "\n",
    "```"
   ]
  },
  {
   "cell_type": "code",
   "execution_count": 4,
   "metadata": {
    "colab": {
     "base_uri": "https://localhost:8080/"
    },
    "id": "F_teeIHU2U6M",
    "outputId": "706c8c3c-6cda-4dfb-a2ef-d55acdf5c5d7"
   },
   "outputs": [
    {
     "name": "stdout",
     "output_type": "stream",
     "text": [
      "Hello\n"
     ]
    }
   ],
   "source": [
    "def greet():\n",
    "    print(\"Hello\")\n",
    "\n",
    "# Calling the function\n",
    "greet()"
   ]
  },
  {
   "cell_type": "markdown",
   "metadata": {
    "id": "1xVFp6LE2-a-"
   },
   "source": [
    "Q6. What is the operation of this special character ‘\\’?\n",
    "\n",
    "Answer:\n",
    "\n",
    "The `backslash (\\)` is used as an escape character in Python. It is used to include special characters or represent certain sequences within strings. Some common escape sequences include:\n",
    "- \\\\\" - Double quote\n",
    "- \\\\' - Single quote\n",
    "- \\\\\\ - Backslash\n",
    "- \\n - Newline\n",
    "- \\t - Tab"
   ]
  },
  {
   "cell_type": "code",
   "execution_count": 5,
   "metadata": {
    "colab": {
     "base_uri": "https://localhost:8080/"
    },
    "id": "g3wS7Vzn3Qvt",
    "outputId": "cdc03963-f5e0-4b01-a710-6aa24e4c74a4"
   },
   "outputs": [
    {
     "name": "stdout",
     "output_type": "stream",
     "text": [
      "This is a double quote: \"\n",
      "This is a single quote: '\n",
      "This is a backslash: \\\n",
      "This is a newline:\n",
      "This is the next line.\n",
      "This is a tab:\tThis is indented.\n"
     ]
    }
   ],
   "source": [
    "print(\"This is a double quote: \\\"\")\n",
    "print(\"This is a single quote: \\'\")\n",
    "print(\"This is a backslash: \\\\\")\n",
    "print(\"This is a newline:\\nThis is the next line.\")\n",
    "print(\"This is a tab:\\tThis is indented.\")"
   ]
  },
  {
   "cell_type": "markdown",
   "metadata": {
    "id": "IzBTm9iG3QYk"
   },
   "source": [
    "Q7. Give an example of the following conditions:\n",
    "1. Homogeneous list\n",
    "2. Heterogeneous set\n",
    "3. Homogeneous tuple\n",
    "\n",
    "Answer:\n",
    "\n",
    "1. **Homogeneous list:** A list where all the elements have the same data type.\n",
    "```\n",
    "homogeneous_list = [1, 2, 3, 4, 5]\n",
    "```\n",
    "\n",
    "2. **Heterogeneous set:** A set where the elements can have different data types.\n",
    "```\n",
    "heterogeneous_set = {1, \"hello\", True, 3.14}\n",
    "```\n",
    "\n",
    "3. **Homogeneous tuple:** A tuple where all the elements have the same data type.\n",
    "```\n",
    "homogeneous_tuple = (10, 20, 30, 40, 50)\n",
    "```"
   ]
  },
  {
   "cell_type": "markdown",
   "metadata": {
    "id": "3Ic5IMVm2-WU"
   },
   "source": [
    "Q8. Explain the mutable and immutable data types with proper explanation & examples.\n",
    "\n",
    "Answer:\n",
    "\n",
    "- Mutable and immutable data types refer to whether the data within the object can be changed after it is created.\n",
    "\n",
    "- **Mutable data types:** Mutable objects can be modified after they are created. Changes to mutable objects directly modify the existing object in memory. Examples of mutable data types in Python include lists, dictionaries, and sets.\n",
    "```\n",
    "my_list = [1, 2, 3]\n",
    "my_list.append(4)  # Modifying the list by adding an element\n",
    "print(my_list)  # Output: [1, 2, 3, 4]\n",
    "```\n",
    "\n",
    "- **Immutable data types:** Immutable objects cannot be changed after they are created. Any operation that seems to modify an immutable object actually creates a new object in memory. Examples of immutable data types in Python include integers, floats, strings, and tuples.\n",
    "```\n",
    "my_string = \"Hello\"\n",
    "new_string = my_string + \", world!\"  # Creating a new string by concatenation\n",
    "my_string[1] = \"E\"  # This will throw error as strings are immutable\n",
    "print(new_string)  # Output: \"Hello, world!\"\n",
    "print(my_string)  # Output: \"Hello\" (original string is unchanged)\n",
    "```\n",
    "\n",
    "It's important to note that even though mutable objects can be modified, assigning a new value to a mutable object (e.g., creating a new list and assigning it to the same variable) does not change the original object, but rather points the variable to a new object in memory."
   ]
  },
  {
   "cell_type": "markdown",
   "metadata": {
    "id": "5PlrSr2I4LP5",
    "jp-MarkdownHeadingCollapsed": true,
    "tags": []
   },
   "source": [
    "Q9. Write a code to create the given structure using only for loop. \\\n",
    "```\n",
    "     *\n",
    "    ***\n",
    "   *****\n",
    "  *******\n",
    " *********\n",
    " ```"
   ]
  },
  {
   "cell_type": "code",
   "execution_count": 6,
   "metadata": {
    "colab": {
     "base_uri": "https://localhost:8080/"
    },
    "id": "v-r42PXh20Eg",
    "outputId": "017606a1-bce3-4718-abe3-48809ad3831d"
   },
   "outputs": [
    {
     "name": "stdout",
     "output_type": "stream",
     "text": [
      "    *\n",
      "   ***\n",
      "  *****\n",
      " *******\n",
      "*********\n"
     ]
    }
   ],
   "source": [
    "rows = 5  # Number of rows in the structure\n",
    "for i in range(rows):\n",
    "    for j in range(rows - i - 1):\n",
    "        print(\" \", end=\"\")            # Print spaces\n",
    "    for k in range(2 * i + 1):        # Print asterisks\n",
    "        print(\"*\", end=\"\")\n",
    "    print()                           # Move to the next line"
   ]
  },
  {
   "cell_type": "markdown",
   "metadata": {
    "id": "fOAu-Xm54s19"
   },
   "source": [
    "Q10. Write a code to create the given structure using while loop.\\\n",
    "```\n",
    "    |||||||||\n",
    "     |||||||\n",
    "      |||||\n",
    "       |||\n",
    "        |\n",
    "```"
   ]
  },
  {
   "cell_type": "code",
   "execution_count": 7,
   "metadata": {
    "colab": {
     "base_uri": "https://localhost:8080/"
    },
    "id": "iBgAi-Ez4raE",
    "outputId": "e19a29c2-65e9-4378-81cf-926ffe8624eb"
   },
   "outputs": [
    {
     "name": "stdout",
     "output_type": "stream",
     "text": [
      "|||||||||\n",
      " |||||||\n",
      "  |||||\n",
      "   |||\n",
      "    |\n"
     ]
    }
   ],
   "source": [
    "rows = 5  # Number of rows in the structure\n",
    "spaces = 0  # Number of spaces at the beginning of each row\n",
    "while rows > 0:\n",
    "    for i in range(spaces):\n",
    "        print(\" \", end=\"\")          # Print spaces\n",
    "    for j in range(2 * rows - 1):   # Print vertical bars\n",
    "        print(\"|\", end=\"\")\n",
    "    print()                         # Move to the next line\n",
    "    rows -= 1  # Decrement the number of rows\n",
    "    spaces += 1  # Increment the number of spaces"
   ]
  }
 ],
 "metadata": {
  "colab": {
   "provenance": []
  },
  "kernelspec": {
   "display_name": "Python 3 (ipykernel)",
   "language": "python",
   "name": "python3"
  },
  "language_info": {
   "codemirror_mode": {
    "name": "ipython",
    "version": 3
   },
   "file_extension": ".py",
   "mimetype": "text/x-python",
   "name": "python",
   "nbconvert_exporter": "python",
   "pygments_lexer": "ipython3",
   "version": "3.10.6"
  }
 },
 "nbformat": 4,
 "nbformat_minor": 4
}
