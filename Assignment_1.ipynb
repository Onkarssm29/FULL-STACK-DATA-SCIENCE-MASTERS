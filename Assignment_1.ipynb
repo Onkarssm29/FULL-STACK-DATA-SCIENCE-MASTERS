{
 "cells": [
  {
   "cell_type": "markdown",
   "id": "3eb8abbe-02e6-4ec0-87fb-69f7af739e56",
   "metadata": {},
   "source": [
    "1. In the below elements which of them are values or an expression? eg:- values can be integer or string and expressions will be mathematical operators.\n",
    "*        Ans.  expression\n",
    "'hello'  Ans.  value\n",
    "-87.8    Ans.  value\n",
    "-        Ans.  expression\n",
    "/        Ans.  expression\n",
    "+\t     Ans.  expression\n",
    "6        Ans.  value\n",
    "\n",
    "2. What is the difference between string and variable?\n",
    "Ans. Variables are used to store the data in a program whereas string is one type of data.\n",
    "\n",
    "3. Describe three different data types.\n",
    "Ans. 1) Integers = They are whole  numbers, without a fractional component. They can be either positive or negative. e.g. 1, 2, 3, 4, etc.\n",
    "     2) Floats = They represent the real numbers and are written with a decimal point. e.g. 1.0, 2.1, 3.2, 4.3, etc.\n",
    "     3) Strings = They are sequence of the characters data. They are created by enclosing the characters in inverted quotes. e.g. “I”, “Me”, “you”,           “we”, etc.\n",
    "\n",
    "4. What is an expression made up of? What do all expressions do?\n",
    "Ans. An expression in Python is a combination of operators and operands. The expression in Python produces some value or result after being interpreted by the Python interpreter.\n",
    "\n",
    "5. This assignment statements, like spam = 10. What is the difference between an expression and a statement?\n",
    "Ans. The expression in Python produces some value or result after being interpreted by the Python interpreter. A statement in Python is not evaluated for some results.\n",
    "\n",
    "6. After running the following code, what does the variable bacon contain?\n",
    "bacon = 22\n",
    "bacon + 1\n",
    "Ans.  22\n",
    "\n",
    "7. What should the values of the following two terms be?\n",
    "'spam' + 'spamspam'  Ans.  spamspamspam\n",
    "'spam' * 3           Ans.  Spamspamspam\n",
    "\n",
    "8. Why is eggs a valid variable name while 100 is invalid?\n",
    "Ans. Because a variable name must start with a letter (either small or capital) or an underscore and not with a digit (0 to 9).\n",
    "\n",
    "9. What three functions can be used to get the integer, floating-point number, or string version of a value?\n",
    "Ans. The int() , float() and str( ) functions can be used to get the integer, floating-point number, and string versions of the value passed to them.\n",
    "\n",
    "10. Why does this expression cause an error? How can you fix it?\n",
    "'I have eaten ' + 99 + ' burritos.'\n",
    "Ans. Because the term 99 is not declared as a string. And you cannot add a number to a string.\n",
    "If the same is declared as a string, then there will be no error as shown below :\n",
    "'I have eaten ' + ‘99’ + ' burritos.'\n"
   ]
  },
  {
   "cell_type": "code",
   "execution_count": null,
   "id": "eff8c505-4c14-40f4-a070-1ebdb884d799",
   "metadata": {},
   "outputs": [],
   "source": []
  }
 ],
 "metadata": {
  "kernelspec": {
   "display_name": "Python 3 (ipykernel)",
   "language": "python",
   "name": "python3"
  },
  "language_info": {
   "codemirror_mode": {
    "name": "ipython",
    "version": 3
   },
   "file_extension": ".py",
   "mimetype": "text/x-python",
   "name": "python",
   "nbconvert_exporter": "python",
   "pygments_lexer": "ipython3",
   "version": "3.10.6"
  }
 },
 "nbformat": 4,
 "nbformat_minor": 5
}
