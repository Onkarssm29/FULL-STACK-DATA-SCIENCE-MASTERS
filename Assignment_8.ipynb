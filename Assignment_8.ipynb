{
 "cells": [
  {
   "cell_type": "markdown",
   "metadata": {
    "id": "T_tD3Abiot5t"
   },
   "source": [
    "Q1. In Python, what is the difference between a built-in function and a user-defined function? Provide an\n",
    "example of each. \n",
    "\n",
    "Ans:\n",
    "\n",
    "In Python, a built-in function is a function that is already defined and available for use in the Python interpreter. These functions are part of the Python language itself and can be directly called without the need for any additional code. Examples of built-in functions include `print()`, `len()`, and `range()`.\n",
    "\n",
    "```\n",
    "print(\"Hello World\")\n",
    "```\n",
    "\n",
    "On the other hand, a user-defined function is a function that is created by the user to perform a specific task. These functions are defined using the def keyword followed by a function name, a parameter list (optional), and a block of code. Examples of user-defined functions is as follows:\n",
    "\n",
    "```\n",
    "# User-defined function\n",
    "def add_numbers(a, b):\n",
    "    return a + b\n",
    "\n",
    "result = add_numbers(5, 10)\n",
    "print(result)  # Output: 15\n",
    "\n",
    "```\n"
   ]
  },
  {
   "cell_type": "code",
   "execution_count": 16,
   "metadata": {
    "colab": {
     "base_uri": "https://localhost:8080/"
    },
    "id": "xyCEWfwsSSgi",
    "outputId": "aec840c9-4f98-438b-9c56-1a7ecb2219c8"
   },
   "outputs": [
    {
     "name": "stdout",
     "output_type": "stream",
     "text": [
      "Hello World\n",
      "15\n"
     ]
    }
   ],
   "source": [
    "# In-built Function\n",
    "print(\"Hello World\")\n",
    "\n",
    "# User-defined function\n",
    "def add_numbers(a, b):\n",
    "    return a + b\n",
    "result=add_numbers(5, 10)\n",
    "print(result)"
   ]
  },
  {
   "cell_type": "markdown",
   "metadata": {
    "id": "bHPGQ4xwpgxv"
   },
   "source": [
    "Q2. How can you pass arguments to a function in Python? Explain the difference between positional\n",
    "arguments and keyword arguments.\n",
    "\n",
    "Ans:\n",
    "\n",
    "Arguments can be passed to a function in Python in two ways: positional arguments and keyword arguments.\n",
    "\n",
    "Positional arguments are passed to a function based on their position or order. The arguments are matched with the parameters in the function definition based on their position. Example:\n",
    "\n",
    "```\n",
    "def greet(name, age):\n",
    "    print(f\"Hello, {name}! You are {age} years old.\")\n",
    "\n",
    "greet(\"Sakalya\", 21)  # Output: Hello, Sakalya! You are 21 years old.\n",
    "```\n",
    "\n",
    "Keyword arguments, on the other hand, are passed with a specific keyword and associated value. The arguments are matched with the parameters based on their keyword. Example:\n",
    "\n",
    "```\n",
    "def greet(name, age):\n",
    "    print(f\"Hello, {name}! You are {age} years old.\")\n",
    "\n",
    "greet(age=21, name=\"Sakalya\")  # Output: Hello, Sakalya! You are 21 years old.\n",
    "```"
   ]
  },
  {
   "cell_type": "code",
   "execution_count": 18,
   "metadata": {
    "colab": {
     "base_uri": "https://localhost:8080/"
    },
    "id": "Vwjzi528pZ-B",
    "outputId": "00496a30-0a31-4284-c1a8-073af08a5f26"
   },
   "outputs": [
    {
     "name": "stdout",
     "output_type": "stream",
     "text": [
      "Hello, Sakalya! You are 21 years old.\n",
      "Hello, Sakalya! You are 21 years old.\n"
     ]
    }
   ],
   "source": [
    "# Positional Arguments\n",
    "def greet(name,age):\n",
    "    print(f\"Hello, {name}! You are {age} years old.\")\n",
    "greet(\"Sakalya\",21)\n",
    "\n",
    "# Keyword Arguments\n",
    "def greet(name,age):\n",
    "    print(f\"Hello, {name}! You are {age} years old.\")\n",
    "greet(age=21,name=\"Sakalya\")"
   ]
  },
  {
   "cell_type": "markdown",
   "metadata": {
    "id": "BiadG84oqGnP"
   },
   "source": [
    "Q3. What is the purpose of the return statement in a function? Can a function have multiple return\n",
    "statements? Explain with an example.\n",
    "\n",
    "Ans:\n",
    "\n",
    "The purpose of the `return` statement in a function is to specify the value that the function should return after its execution. It allows the function to provide a result or output that can be used by the calling code. A function can have multiple return statements, but only one of them will be executed, terminating the function.\n",
    "\n",
    "```\n",
    "def get_max(a, b):\n",
    "    if a > b:\n",
    "        return a\n",
    "    else:\n",
    "        return b\n",
    "\n",
    "result = get_max(10, 5)\n",
    "print(result)  # Output: 10\n",
    "```\n",
    "\n",
    "In this example, the function `get_max()` returns the maximum value between two numbers. The return statement inside the if block is executed if a is greater than b, and the return statement inside the else block is executed otherwise."
   ]
  },
  {
   "cell_type": "code",
   "execution_count": 20,
   "metadata": {
    "colab": {
     "base_uri": "https://localhost:8080/"
    },
    "id": "8mGa3JosqFnS",
    "outputId": "dc20f1d9-3a36-4be6-99cf-6feea1953953"
   },
   "outputs": [
    {
     "name": "stdout",
     "output_type": "stream",
     "text": [
      "10\n",
      "10\n"
     ]
    }
   ],
   "source": [
    "def get_max(a,b):\n",
    "    if a>b:\n",
    "        return a\n",
    "    else:\n",
    "        return b\n",
    "result=get_max(10,5)\n",
    "print(result)\n",
    "result=get_max(5,10)\n",
    "print(result)"
   ]
  },
  {
   "cell_type": "markdown",
   "metadata": {
    "id": "sBx6SjI5qhn2"
   },
   "source": [
    "Q4. What are lambda functions in Python? How are they different from regular functions? Provide an\n",
    "example where a lambda function can be useful.\n",
    "\n",
    "Ans:\n",
    "\n",
    "Lambda functions, also known as anonymous functions, are small, one-line functions that don't require a separate def statement. They are defined using the lambda keyword and can take any number of arguments but can only have a single expression.\n",
    "\n",
    "Lambda functions are different from regular functions because they are typically used for simple and short operations and are not designed to be reused. They are commonly used when a small function is required for a specific task.\n",
    "\n",
    "```\n",
    "add_numbers = lambda a, b: a + b\n",
    "result = add_numbers(5, 10)\n",
    "print(result)  # Output: 15\n",
    "```\n",
    "\n",
    "In this example, a lambda function `add_numbers` is defined to add two numbers. The function takes two arguments a and b and returns their sum."
   ]
  },
  {
   "cell_type": "code",
   "execution_count": 21,
   "metadata": {
    "colab": {
     "base_uri": "https://localhost:8080/"
    },
    "id": "IwyTSaJFqba6",
    "outputId": "fcdc47cc-44da-4947-ed20-75ec03e75e69"
   },
   "outputs": [
    {
     "name": "stdout",
     "output_type": "stream",
     "text": [
      "15\n"
     ]
    }
   ],
   "source": [
    "add_numbers=lambda a, b: a + b\n",
    "result=add_numbers(5, 10)\n",
    "print(result)"
   ]
  },
  {
   "cell_type": "markdown",
   "metadata": {
    "id": "GGP6igw9rhVm"
   },
   "source": [
    "Q5. How does the concept of \"scope\" apply to functions in Python? Explain the difference between local\n",
    "scope and global scope.\n",
    "\n",
    "Ans:\n",
    "\n",
    "The concept of \"scope\" refers to the region or context in which a variable or name can be referenced. When it comes to functions, there are two main types of scope: local scope and global scope.\n",
    "\n",
    "Local scope refers to the variables or names that are defined within a function. These variables are only accessible within the function itself and are not visible outside of it.\n",
    "```\n",
    "def my_function():\n",
    "    x = 10\n",
    "    print(x)  # Output: 10\n",
    "\n",
    "my_function()\n",
    "print(x)  # NameError: name 'x' is not defined\n",
    "```\n",
    "\n",
    "In this example, the variable x is defined within the `my_function()` function and can only be accessed within that function.\n",
    "\n",
    "Global scope refers to variables or names that are defined outside of any function and can be accessed from anywhere in the code.\n",
    "```\n",
    "x = 10\n",
    "\n",
    "def my_function():\n",
    "    print(x)  # Output: 10\n",
    "\n",
    "my_function()\n",
    "print(x)  # Output: 10\n",
    "```\n",
    "In this example, the variable x is defined outside the my_function() function and can be accessed from within the function as well as from outside it."
   ]
  },
  {
   "cell_type": "code",
   "execution_count": 1,
   "metadata": {
    "colab": {
     "base_uri": "https://localhost:8080/",
     "height": 217
    },
    "id": "nmi1AI6_rgXO",
    "outputId": "054091e3-aae2-4701-8805-a1924cc81232"
   },
   "outputs": [
    {
     "name": "stdout",
     "output_type": "stream",
     "text": [
      "5\n"
     ]
    },
    {
     "ename": "NameError",
     "evalue": "name 'x' is not defined",
     "output_type": "error",
     "traceback": [
      "\u001b[0;31m---------------------------------------------------------------------------\u001b[0m",
      "\u001b[0;31mNameError\u001b[0m                                 Traceback (most recent call last)",
      "Cell \u001b[0;32mIn [1], line 6\u001b[0m\n\u001b[1;32m      4\u001b[0m     \u001b[38;5;28mprint\u001b[39m(x) \n\u001b[1;32m      5\u001b[0m my_function()\n\u001b[0;32m----> 6\u001b[0m \u001b[38;5;28mprint\u001b[39m(\u001b[43mx\u001b[49m)\n",
      "\u001b[0;31mNameError\u001b[0m: name 'x' is not defined"
     ]
    }
   ],
   "source": [
    "# Local Scope Example\n",
    "def my_function():\n",
    "    x=5\n",
    "    print(x) \n",
    "my_function()\n",
    "print(x)"
   ]
  },
  {
   "cell_type": "code",
   "execution_count": 2,
   "metadata": {
    "colab": {
     "base_uri": "https://localhost:8080/"
    },
    "id": "1tHqhrkXsNCq",
    "outputId": "4c7a1912-4a0e-44d3-979f-8462ba354f6a"
   },
   "outputs": [
    {
     "name": "stdout",
     "output_type": "stream",
     "text": [
      "10\n",
      "10\n"
     ]
    }
   ],
   "source": [
    "# Global Scope Example\n",
    "x=10\n",
    "def my_function():\n",
    "    print(x)\n",
    "my_function()\n",
    "print(x)"
   ]
  },
  {
   "cell_type": "markdown",
   "metadata": {
    "id": "_va1lMEhsTTE"
   },
   "source": [
    "Q6. How can you use the \"return\" statement in a Python function to return multiple values?\n",
    "\n",
    "Ans.\n",
    "\n",
    "In Python, we can use the return statement in a function to return multiple values by returning them as a tuple, list, or any other iterable object.\n",
    "\n",
    "```\n",
    "def get_numbers():\n",
    "    return 1, 2, 3\n",
    "\n",
    "result = get_numbers()\n",
    "print(result)  # Output: (1, 2, 3)\n",
    "\n",
    "```\n",
    "In this example, the `get_numbers()` function returns three numbers as a tuple (1, 2, 3). The returned values can be assigned to a single variable, which will hold the tuple, or they can be unpacked into separate variables."
   ]
  },
  {
   "cell_type": "code",
   "execution_count": 4,
   "metadata": {
    "colab": {
     "base_uri": "https://localhost:8080/"
    },
    "id": "ybIojHWBsPzU",
    "outputId": "9d10553c-1da8-4dc1-e875-28864c7c863c"
   },
   "outputs": [
    {
     "name": "stdout",
     "output_type": "stream",
     "text": [
      "(1, 2, 3)\n"
     ]
    }
   ],
   "source": [
    "def get_numbers():\n",
    "    return 1,2,3\n",
    "result=get_numbers()\n",
    "print(result)"
   ]
  },
  {
   "cell_type": "markdown",
   "metadata": {
    "id": "vZWKfyEMsp4m"
   },
   "source": [
    "Q7. What is the difference between the \"pass by value\" and \"pass by reference\" concepts when it\n",
    "comes to function arguments in Python?\n",
    "\n",
    "Ans.\n",
    "\n",
    "Function arguments are passed by reference. It means that when you pass an argument to a function, the function receives a reference to the object rather than a copy of the object itself. This allows the function to modify mutable objects such as **lists or dictionaries**.\n",
    "\n",
    "However, when it comes to immutable objects such as **integers**, **floats**, or **strings**, they are passed by value. It means that the function receives a copy of the value, and any modifications made inside the function won't affect the original value outside the function.\n",
    "```\n",
    "def modify_list(lst):\n",
    "    lst.append(4)\n",
    "\n",
    "my_list = [1, 2, 3]\n",
    "modify_list(my_list)\n",
    "print(my_list)  # Output: [1, 2, 3, 4]\n",
    "\n",
    "def modify_number(num):\n",
    "    num += 1\n",
    "\n",
    "my_number = 10\n",
    "modify_number(my_number)\n",
    "print(my_number)  # Output: 10\n",
    "\n",
    "```\n",
    "\n",
    "In this example, the `modify_list()` function modifies the list by appending a new element, which affects the original list. However, the `modify_number()` function increments the value of num inside the function, but it doesn't affect the original my_number variable outside the function."
   ]
  },
  {
   "cell_type": "code",
   "execution_count": 5,
   "metadata": {
    "colab": {
     "base_uri": "https://localhost:8080/"
    },
    "id": "qwbvnVxnspHt",
    "outputId": "14b243dc-2cd7-4f17-f805-4386e0176a55"
   },
   "outputs": [
    {
     "name": "stdout",
     "output_type": "stream",
     "text": [
      "[1, 2, 3, 4]\n",
      "10\n"
     ]
    }
   ],
   "source": [
    "def modify_list(lst):\n",
    "    lst.append(4)\n",
    "my_list=[1, 2, 3]\n",
    "modify_list(my_list)\n",
    "print(my_list)\n",
    "\n",
    "def modify_number(num):\n",
    "    num+=1\n",
    "my_number=10\n",
    "modify_number(my_number)\n",
    "print(my_number)"
   ]
  },
  {
   "cell_type": "markdown",
   "metadata": {
    "id": "J_Ek8seKtnIS"
   },
   "source": [
    "Q8. Create a function that can intake integer or decimal value and do following operations:<br>\n",
    "1. Logarithmic function (log x)\n",
    "2. Exponential function (exp(x))\n",
    "3. Power function with base 2 (2<sup>x</sup>)\n",
    "4. Square root"
   ]
  },
  {
   "cell_type": "code",
   "execution_count": 6,
   "metadata": {
    "colab": {
     "base_uri": "https://localhost:8080/"
    },
    "id": "iGJAJV29tk_F",
    "outputId": "c003f7d4-4aa1-489d-b633-66f54250f084"
   },
   "outputs": [
    {
     "name": "stdout",
     "output_type": "stream",
     "text": [
      "{'logarithm': 1.6094379124341003, 'exponential': 148.4131591025766, 'power': 32.0, 'square_root': 2.23606797749979}\n"
     ]
    }
   ],
   "source": [
    "import math\n",
    "def math_operations(value):\n",
    "    result={}\n",
    "    result[\"logarithm\"]=math.log(value)\n",
    "    result[\"exponential\"]=math.exp(value)\n",
    "    result[\"power\"]=math.pow(2, value)\n",
    "    result[\"square_root\"]=math.sqrt(value)\n",
    "    return result\n",
    "operations=math_operations(5)\n",
    "print(operations)"
   ]
  },
  {
   "cell_type": "markdown",
   "metadata": {
    "id": "CS2M1NMKuNK7"
   },
   "source": [
    "Q9. Create a function that takes a full name as an argument and returns first name and last name.\n",
    "\n",
    "Ans:"
   ]
  },
  {
   "cell_type": "code",
   "execution_count": 10,
   "metadata": {
    "colab": {
     "base_uri": "https://localhost:8080/"
    },
    "id": "S8LJTKE1t_b8",
    "outputId": "34795c11-5fca-43d5-86e6-ad5af8274706"
   },
   "outputs": [
    {
     "name": "stdout",
     "output_type": "stream",
     "text": [
      "Onkar\n",
      "Mahadik\n"
     ]
    }
   ],
   "source": [
    "def get_first_and_last_name(full_name):\n",
    "    names=full_name.split()\n",
    "    first_name=names[0]\n",
    "    last_name=names[-1]\n",
    "    return first_name,last_name\n",
    "first_name,last_name=get_first_and_last_name(\"Onkar Mahadik\")\n",
    "print(first_name)\n",
    "print(last_name)"
   ]
  }
 ],
 "metadata": {
  "colab": {
   "provenance": []
  },
  "kernelspec": {
   "display_name": "Python 3 (ipykernel)",
   "language": "python",
   "name": "python3"
  },
  "language_info": {
   "codemirror_mode": {
    "name": "ipython",
    "version": 3
   },
   "file_extension": ".py",
   "mimetype": "text/x-python",
   "name": "python",
   "nbconvert_exporter": "python",
   "pygments_lexer": "ipython3",
   "version": "3.10.6"
  }
 },
 "nbformat": 4,
 "nbformat_minor": 4
}
